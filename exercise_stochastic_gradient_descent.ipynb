{
  "metadata": {
    "kernelspec": {
      "language": "python",
      "display_name": "Python 3",
      "name": "python3"
    },
    "language_info": {
      "name": "python",
      "version": "3.7.12",
      "mimetype": "text/x-python",
      "codemirror_mode": {
        "name": "ipython",
        "version": 3
      },
      "pygments_lexer": "ipython3",
      "nbconvert_exporter": "python",
      "file_extension": ".py"
    },
    "colab": {
      "name": "exercise-stochastic-gradient-descent.ipynb",
      "provenance": [],
      "include_colab_link": true
    }
  },
  "nbformat_minor": 0,
  "nbformat": 4,
  "cells": [
    {
      "cell_type": "markdown",
      "metadata": {
        "id": "view-in-github",
        "colab_type": "text"
      },
      "source": [
        "<a href=\"https://colab.research.google.com/github/vikasbda21/Intro-to-DL-Kaggle/blob/main/exercise_stochastic_gradient_descent.ipynb\" target=\"_parent\"><img src=\"https://colab.research.google.com/assets/colab-badge.svg\" alt=\"Open In Colab\"/></a>"
      ]
    },
    {
      "cell_type": "markdown",
      "source": [
        "**This notebook is an exercise in the [Intro to Deep Learning](https://www.kaggle.com/learn/intro-to-deep-learning) course.  You can reference the tutorial at [this link](https://www.kaggle.com/ryanholbrook/stochastic-gradient-descent).**\n",
        "\n",
        "---\n"
      ],
      "metadata": {
        "id": "SCqIWJzBmyiQ"
      }
    },
    {
      "cell_type": "markdown",
      "source": [
        "# Introduction #\n",
        "\n",
        "In this exercise you'll train a neural network on the *Fuel Economy* dataset and then explore the effect of the learning rate and batch size on SGD.\n",
        "\n",
        "When you're ready, run this next cell to set everything up!"
      ],
      "metadata": {
        "id": "a-p6a67nmyiT"
      }
    },
    {
      "cell_type": "code",
      "source": [
        "# Setup plotting\n",
        "import matplotlib.pyplot as plt\n",
        "from learntools.deep_learning_intro.dltools import animate_sgd\n",
        "plt.style.use('seaborn-whitegrid')\n",
        "# Set Matplotlib defaults\n",
        "plt.rc('figure', autolayout=True)\n",
        "plt.rc('axes', labelweight='bold', labelsize='large',\n",
        "       titleweight='bold', titlesize=18, titlepad=10)\n",
        "plt.rc('animation', html='html5')\n",
        "\n",
        "# Setup feedback system\n",
        "from learntools.core import binder\n",
        "binder.bind(globals())\n",
        "from learntools.deep_learning_intro.ex3 import *"
      ],
      "metadata": {
        "execution": {
          "iopub.status.busy": "2021-12-31T12:54:24.584204Z",
          "iopub.execute_input": "2021-12-31T12:54:24.584873Z",
          "iopub.status.idle": "2021-12-31T12:54:29.746829Z",
          "shell.execute_reply.started": "2021-12-31T12:54:24.584777Z",
          "shell.execute_reply": "2021-12-31T12:54:29.746048Z"
        },
        "trusted": true,
        "id": "TENJM-qsmyiU"
      },
      "execution_count": null,
      "outputs": []
    },
    {
      "cell_type": "markdown",
      "source": [
        "In the *Fuel Economy* dataset your task is to predict the fuel economy of an automobile given features like its type of engine or the year it was made. \n",
        "\n",
        "First load the dataset by running the cell below."
      ],
      "metadata": {
        "id": "lDVzWYxLmyiV"
      }
    },
    {
      "cell_type": "code",
      "source": [
        "import numpy as np\n",
        "import pandas as pd\n",
        "from sklearn.preprocessing import StandardScaler, OneHotEncoder\n",
        "from sklearn.compose import make_column_transformer, make_column_selector\n",
        "from sklearn.model_selection import train_test_split\n",
        "\n",
        "fuel = pd.read_csv('../input/dl-course-data/fuel.csv')\n",
        "\n",
        "X = fuel.copy()\n",
        "# Remove target\n",
        "y = X.pop('FE')\n",
        "\n",
        "preprocessor = make_column_transformer(\n",
        "    (StandardScaler(),\n",
        "     make_column_selector(dtype_include=np.number)),\n",
        "    (OneHotEncoder(sparse=False),\n",
        "     make_column_selector(dtype_include=object)),\n",
        ")\n",
        "\n",
        "X = preprocessor.fit_transform(X)\n",
        "y = np.log(y) # log transform target instead of standardizing\n",
        "\n",
        "input_shape = [X.shape[1]]\n",
        "print(\"Input shape: {}\".format(input_shape))"
      ],
      "metadata": {
        "execution": {
          "iopub.status.busy": "2021-12-31T12:54:40.801587Z",
          "iopub.execute_input": "2021-12-31T12:54:40.801837Z",
          "iopub.status.idle": "2021-12-31T12:54:41.399847Z",
          "shell.execute_reply.started": "2021-12-31T12:54:40.801808Z",
          "shell.execute_reply": "2021-12-31T12:54:41.399053Z"
        },
        "trusted": true,
        "id": "xniaDh2LmyiV"
      },
      "execution_count": null,
      "outputs": []
    },
    {
      "cell_type": "markdown",
      "source": [
        "Take a look at the data if you like. Our target in this case is the `'FE'` column and the remaining columns are the features."
      ],
      "metadata": {
        "id": "mpvwvsVTmyiW"
      }
    },
    {
      "cell_type": "code",
      "source": [
        "# Uncomment to see original data\n",
        "fuel.head()\n",
        "# Uncomment to see processed features\n",
        "pd.DataFrame(X[:10,:]).head()"
      ],
      "metadata": {
        "execution": {
          "iopub.status.busy": "2021-12-31T12:54:46.054033Z",
          "iopub.execute_input": "2021-12-31T12:54:46.054822Z",
          "iopub.status.idle": "2021-12-31T12:54:46.106169Z",
          "shell.execute_reply.started": "2021-12-31T12:54:46.054773Z",
          "shell.execute_reply": "2021-12-31T12:54:46.105524Z"
        },
        "trusted": true,
        "id": "ua74Y_aBmyiW"
      },
      "execution_count": null,
      "outputs": []
    },
    {
      "cell_type": "markdown",
      "source": [
        "Run the next cell to define the network we'll use for this task."
      ],
      "metadata": {
        "id": "neLgu24dmyiX"
      }
    },
    {
      "cell_type": "code",
      "source": [
        "from tensorflow import keras\n",
        "from tensorflow.keras import layers\n",
        "\n",
        "model = keras.Sequential([\n",
        "    layers.Dense(128, activation='relu', input_shape=input_shape),\n",
        "    layers.Dense(128, activation='relu'),    \n",
        "    layers.Dense(64, activation='relu'),\n",
        "    layers.Dense(1),\n",
        "])"
      ],
      "metadata": {
        "execution": {
          "iopub.status.busy": "2021-12-31T12:54:49.420238Z",
          "iopub.execute_input": "2021-12-31T12:54:49.420520Z",
          "iopub.status.idle": "2021-12-31T12:54:51.884966Z",
          "shell.execute_reply.started": "2021-12-31T12:54:49.420482Z",
          "shell.execute_reply": "2021-12-31T12:54:51.884149Z"
        },
        "trusted": true,
        "id": "HpipMmgomyiX"
      },
      "execution_count": null,
      "outputs": []
    },
    {
      "cell_type": "markdown",
      "source": [
        "# 1) Add Loss and Optimizer\n",
        "\n",
        "Before training the network we need to define the loss and optimizer we'll use. Using the model's `compile` method, add the Adam optimizer and MAE loss."
      ],
      "metadata": {
        "id": "WtjGIm1VmyiX"
      }
    },
    {
      "cell_type": "code",
      "source": [
        "# YOUR CODE HERE\n",
        "model.compile(\n",
        "       optimizer= 'adam',\n",
        "    loss='mae'\n",
        ")\n",
        "# Check your answer\n",
        "q_1.check()"
      ],
      "metadata": {
        "lines_to_next_cell": 0,
        "execution": {
          "iopub.status.busy": "2021-12-31T12:54:59.275378Z",
          "iopub.execute_input": "2021-12-31T12:54:59.276114Z",
          "iopub.status.idle": "2021-12-31T12:54:59.294929Z",
          "shell.execute_reply.started": "2021-12-31T12:54:59.276078Z",
          "shell.execute_reply": "2021-12-31T12:54:59.294319Z"
        },
        "trusted": true,
        "id": "cdZTCWWRmyiY"
      },
      "execution_count": null,
      "outputs": []
    },
    {
      "cell_type": "code",
      "source": [
        "# Lines below will give you a hint or solution code\n",
        "#q_1.hint()\n",
        "#q_1.solution()"
      ],
      "metadata": {
        "execution": {
          "iopub.status.busy": "2021-12-22T05:06:39.316559Z",
          "iopub.execute_input": "2021-12-22T05:06:39.316865Z",
          "iopub.status.idle": "2021-12-22T05:06:39.321997Z",
          "shell.execute_reply.started": "2021-12-22T05:06:39.316831Z",
          "shell.execute_reply": "2021-12-22T05:06:39.320871Z"
        },
        "trusted": true,
        "id": "6orFjPXlmyiY"
      },
      "execution_count": null,
      "outputs": []
    },
    {
      "cell_type": "markdown",
      "source": [
        "# 2) Train Model\n",
        "\n",
        "Once you've defined the model and compiled it with a loss and optimizer you're ready for training. Train the network for 200 epochs with a batch size of 128. The input data is `X` with target `y`."
      ],
      "metadata": {
        "id": "Ie9zgr56myiY"
      }
    },
    {
      "cell_type": "code",
      "source": [
        "# YOUR CODE HERE\n",
        "history = model.fit(\n",
        "    X, y,\n",
        "    #validation_data=(X_valid, y_valid),\n",
        "    batch_size=128,\n",
        "    epochs=200,\n",
        ")\n",
        "\n",
        "# Check your answer\n",
        "q_2.check()"
      ],
      "metadata": {
        "lines_to_next_cell": 0,
        "execution": {
          "iopub.status.busy": "2021-12-31T12:59:39.325758Z",
          "iopub.execute_input": "2021-12-31T12:59:39.326048Z",
          "iopub.status.idle": "2021-12-31T12:59:49.998015Z",
          "shell.execute_reply.started": "2021-12-31T12:59:39.326014Z",
          "shell.execute_reply": "2021-12-31T12:59:49.997355Z"
        },
        "trusted": true,
        "id": "zu50vqalmyiZ"
      },
      "execution_count": null,
      "outputs": []
    },
    {
      "cell_type": "code",
      "source": [
        "# Lines below will give you a hint or solution code\n",
        "#q_2.hint()\n",
        "#q_2.solution()"
      ],
      "metadata": {
        "lines_to_next_cell": 0,
        "id": "MV-ScFnEmyiZ"
      },
      "execution_count": null,
      "outputs": []
    },
    {
      "cell_type": "markdown",
      "source": [
        "The last step is to look at the loss curves and evaluate the training. Run the cell below to get a plot of the training loss."
      ],
      "metadata": {
        "id": "_uVUCMvGmyiZ"
      }
    },
    {
      "cell_type": "code",
      "source": [
        "import pandas as pd\n",
        "\n",
        "history_df = pd.DataFrame(history.history)\n",
        "# Start the plot at epoch 5. You can change this to get a different view.\n",
        "history_df.loc[5:, ['loss']].plot();"
      ],
      "metadata": {
        "lines_to_next_cell": 0,
        "execution": {
          "iopub.status.busy": "2021-12-31T12:59:59.121401Z",
          "iopub.execute_input": "2021-12-31T12:59:59.122414Z",
          "iopub.status.idle": "2021-12-31T12:59:59.582889Z",
          "shell.execute_reply.started": "2021-12-31T12:59:59.122364Z",
          "shell.execute_reply": "2021-12-31T12:59:59.582219Z"
        },
        "trusted": true,
        "id": "-VMMHft7myiZ"
      },
      "execution_count": null,
      "outputs": []
    },
    {
      "cell_type": "markdown",
      "source": [
        "# 3) Evaluate Training\n",
        "\n",
        "If you trained the model longer, would you expect the loss to decrease further?"
      ],
      "metadata": {
        "id": "uqpPAuq2myia"
      }
    },
    {
      "cell_type": "code",
      "source": [
        "# View the solution (Run this cell to receive credit!)\n",
        "q_3.check()"
      ],
      "metadata": {
        "lines_to_next_cell": 0,
        "execution": {
          "iopub.status.busy": "2021-12-31T13:00:12.360446Z",
          "iopub.execute_input": "2021-12-31T13:00:12.360982Z",
          "iopub.status.idle": "2021-12-31T13:00:12.367511Z",
          "shell.execute_reply.started": "2021-12-31T13:00:12.360946Z",
          "shell.execute_reply": "2021-12-31T13:00:12.366773Z"
        },
        "trusted": true,
        "id": "3K-yHxcgmyia"
      },
      "execution_count": null,
      "outputs": []
    },
    {
      "cell_type": "markdown",
      "source": [
        "With the learning rate and the batch size, you have some control over:\n",
        "- How long it takes to train a model\n",
        "- How noisy the learning curves are\n",
        "- How small the loss becomes\n",
        "\n",
        "To get a better understanding of these two parameters, we'll look at the linear model, our ppsimplest neural network. Having only a single weight and a bias, it's easier to see what effect a change of parameter has.\n",
        "\n",
        "The next cell will generate an animation like the one in the tutorial. Change the values for `learning_rate`, `batch_size`, and `num_examples` (how many data points) and then run the cell. (It may take a moment or two.) Try the following combinations, or try some of your own:\n",
        "\n",
        "| `learning_rate` | `batch_size` | `num_examples` |\n",
        "|-----------------|--------------|----------------|\n",
        "| 0.05            | 32           | 256            |\n",
        "| 0.05            | 2            | 256            |\n",
        "| 0.05            | 128          | 256            |\n",
        "| 0.02            | 32           | 256            |\n",
        "| 0.2             | 32           | 256            |\n",
        "| 1.0             | 32           | 256            |\n",
        "| 0.9             | 4096         | 8192           |\n",
        "| 0.99            | 4096         | 8192           |"
      ],
      "metadata": {
        "id": "Tj2UhDzAmyia"
      }
    },
    {
      "cell_type": "code",
      "source": [
        "# YOUR CODE HERE: Experiment with different values for the learning rate, batch size, and number of examples\n",
        "learning_rate = 0.05\n",
        "batch_size = 32\n",
        "num_examples = 256\n",
        "\n",
        "animate_sgd(\n",
        "    learning_rate=learning_rate,\n",
        "    batch_size=batch_size,\n",
        "    num_examples=num_examples,\n",
        "    # You can also change these, if you like\n",
        "    steps=50, # total training steps (batches seen)\n",
        "    true_w=3.0, # the slope of the data\n",
        "    true_b=2.0, # the bias of the data\n",
        ")"
      ],
      "metadata": {
        "execution": {
          "iopub.status.busy": "2021-12-31T13:00:17.379989Z",
          "iopub.execute_input": "2021-12-31T13:00:17.380723Z",
          "iopub.status.idle": "2021-12-31T13:00:29.831033Z",
          "shell.execute_reply.started": "2021-12-31T13:00:17.380683Z",
          "shell.execute_reply": "2021-12-31T13:00:29.830169Z"
        },
        "trusted": true,
        "id": "Wvk8Vwq2myia"
      },
      "execution_count": null,
      "outputs": []
    },
    {
      "cell_type": "markdown",
      "source": [
        "# 4) Learning Rate and Batch Size\n",
        "\n",
        "What effect did changing these parameters have? After you've thought about it, run the cell below for some discussion."
      ],
      "metadata": {
        "id": "TlXmbQjumyia"
      }
    },
    {
      "cell_type": "code",
      "source": [
        "# View the solution (Run this cell to receive credit!)\n",
        "q_4.check()"
      ],
      "metadata": {
        "lines_to_next_cell": 0,
        "execution": {
          "iopub.status.busy": "2021-12-31T13:00:42.500163Z",
          "iopub.execute_input": "2021-12-31T13:00:42.500739Z",
          "iopub.status.idle": "2021-12-31T13:00:42.508951Z",
          "shell.execute_reply.started": "2021-12-31T13:00:42.500698Z",
          "shell.execute_reply": "2021-12-31T13:00:42.508290Z"
        },
        "trusted": true,
        "id": "a6rhA84_myia"
      },
      "execution_count": null,
      "outputs": []
    },
    {
      "cell_type": "markdown",
      "source": [
        "# Keep Going #\n",
        "\n",
        "Learn how to [**improve your model's performance**](https://www.kaggle.com/ryanholbrook/overfitting-and-underfitting) by tuning capacity or adding an early stopping callback."
      ],
      "metadata": {
        "id": "Fj6zwVF9myib"
      }
    },
    {
      "cell_type": "markdown",
      "source": [
        "---\n",
        "\n",
        "\n",
        "\n",
        "\n",
        "*Have questions or comments? Visit the [course discussion forum](https://www.kaggle.com/learn/intro-to-deep-learning/discussion) to chat with other learners.*"
      ],
      "metadata": {
        "id": "fWVrjQT3myib"
      }
    }
  ]
}